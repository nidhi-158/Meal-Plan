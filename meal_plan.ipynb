{
  "cells": [
    {
      "cell_type": "markdown",
      "metadata": {
        "id": "view-in-github",
        "colab_type": "text"
      },
      "source": [
        "<a href=\"https://colab.research.google.com/github/nidhi-158/Meal-Plan/blob/main/meal_plan.ipynb\" target=\"_parent\"><img src=\"https://colab.research.google.com/assets/colab-badge.svg\" alt=\"Open In Colab\"/></a>"
      ]
    },
    {
      "cell_type": "markdown",
      "source": [
        "Only SVM"
      ],
      "metadata": {
        "id": "1ZinbHQwpDsj"
      }
    },
    {
      "cell_type": "code",
      "source": [
        "import pandas as pd\n",
        "import numpy as np\n",
        "import matplotlib.pyplot as plt\n",
        "import seaborn as sns\n",
        "from sklearn.preprocessing import StandardScaler\n",
        "from sklearn.decomposition import PCA\n",
        "from sklearn.svm import SVC\n",
        "from sklearn.cluster import KMeans, AgglomerativeClustering\n",
        "from sklearn.model_selection import train_test_split\n",
        "from sklearn.feature_extraction.text import TfidfVectorizer\n",
        "import nltk\n",
        "from nltk.corpus import stopwords\n",
        "from nltk.stem import WordNetLemmatizer\n",
        "from sklearn.metrics import accuracy_score,classification_report,confusion_matrix\n",
        "\n",
        "# Load data\n",
        "df = pd.read_excel(\"/content/recipees.xlsx\")\n",
        "print(df.head(3))\n",
        "print(\"\\n\")\n",
        "print(df.columns)\n",
        "print(\"\\n\")\n",
        "\n",
        "# Basic data checks\n",
        "print(df.info())\n",
        "print(\"\\n\")\n",
        "print(df.describe())\n",
        "print(f\"Missing values:\\n{df.isnull().sum()}\")\n",
        "print(f\"Duplicated rows: {df.duplicated().sum()}\")\n",
        "\n",
        "# Check for missing columns\n",
        "required_columns = ['ingredients', 'calories', 'protein', 'carbs', 'fat', 'price($)']\n",
        "missing_columns = [col for col in required_columns if col not in df.columns]\n",
        "if missing_columns:\n",
        "    print(f\"Missing columns: {missing_columns}\")\n",
        "\n",
        "# Data Standardization\n",
        "scaler = StandardScaler()\n",
        "X_scaled = scaler.fit_transform(df[['calories', 'protein', 'carbs', 'fat', 'price($)']])\n",
        "\n",
        "# Load NLTK resources\n",
        "nltk.download('punkt', quiet=True)\n",
        "nltk.download('stopwords', quiet=True)\n",
        "nltk.download('wordnet', quiet=True)\n",
        "\n",
        "# Preprocess the ingredients\n",
        "def preprocess(text):\n",
        "    tokens = nltk.word_tokenize(text.lower())\n",
        "    tokens = [word for word in tokens if word.isalnum()]\n",
        "    tokens = [word for word in tokens if word not in stopwords.words('english')]\n",
        "    tokens = [WordNetLemmatizer().lemmatize(word) for word in tokens]\n",
        "    return ' '.join(tokens)\n",
        "\n",
        "df['cleaned_ingredients'] = df['ingredients'].apply(preprocess)\n",
        "\n",
        "# Convert text to numeric format\n",
        "vectorizer = TfidfVectorizer()\n",
        "X_text = vectorizer.fit_transform(df['cleaned_ingredients'])\n",
        "print(X_text.shape)\n",
        "\n",
        "# Apply PCA for dimensionality reduction\n",
        "pca = PCA(n_components=2)\n",
        "reduced_X = pca.fit_transform(X_text.toarray())\n",
        "df['PCA1'] = reduced_X[:, 0]\n",
        "df['PCA2'] = reduced_X[:, 1]\n",
        "print(reduced_X.shape)\n",
        "\n",
        "# K-Means Clustering\n",
        "kmeans = KMeans(n_clusters=3, random_state=42)\n",
        "kmeans_labels = kmeans.fit_predict(reduced_X)\n",
        "df['KMeans_Cluster'] = kmeans_labels\n",
        "\n",
        "# Agglomerative Clustering\n",
        "agg_clustering = AgglomerativeClustering(n_clusters=3)\n",
        "agg_labels = agg_clustering.fit_predict(reduced_X)\n",
        "df['Agglomerative_Cluster'] = agg_labels\n",
        "\n",
        "# Prepare data for classification\n",
        "X_train, X_test, y_train, y_test = train_test_split(reduced_X, kmeans_labels, test_size=0.3, random_state=42)\n",
        "\n",
        "# SVM Classification\n",
        "svm_model = SVC(kernel='linear', random_state=42)\n",
        "svm_model.fit(X_train, y_train)\n",
        "svm_predictions = svm_model.predict(X_test)\n",
        "svm_score = svm_model.score(X_test, y_test)\n",
        "print(f\"SVM Classification Accuracy: {svm_score}\")\n",
        "\n",
        "# Add SVM predictions to the DataFrame\n",
        "df['Cluster_Label'] = svm_model.predict(reduced_X)\n",
        "\n",
        "# Plotting the SVM decision boundaries\n",
        "plt.figure(figsize=(10, 6))\n",
        "sns.scatterplot(x='PCA1', y='PCA2', hue='Cluster_Label', data=df, palette='viridis')\n",
        "plt.title('SVM Classifier Clusters')\n",
        "\n",
        "# Plot decision boundaries\n",
        "ax = plt.gca()\n",
        "xlim = ax.get_xlim()\n",
        "ylim = ax.get_ylim()\n",
        "\n",
        "xx, yy = np.meshgrid(np.linspace(xlim[0], xlim[1], 30), np.linspace(ylim[0], ylim[1], 30))\n",
        "Z = svm_model.predict(np.c_[xx.ravel(), yy.ravel()])\n",
        "Z = Z.reshape(xx.shape)\n",
        "\n",
        "ax.contourf(xx, yy, Z, alpha=0.2, cmap='viridis')\n",
        "plt.show()\n",
        "\n",
        "# Save the DataFrame with cluster labels to a new CSV file\n",
        "df.to_csv('/content/recipees_with_all_clusters.csv', index=False)\n",
        "\n",
        "classification_report_svm = classification_report(y_test, svm_predictions)\n",
        "print(\"Classification Report (SVM):\")\n",
        "print(classification_report_svm)"
      ],
      "metadata": {
        "colab": {
          "base_uri": "https://localhost:8080/",
          "height": 1000
        },
        "id": "7i3LT1Mroc4o",
        "outputId": "c2917260-803b-43ef-a0e5-620e552b0731"
      },
      "execution_count": null,
      "outputs": [
        {
          "output_type": "stream",
          "name": "stdout",
          "text": [
            "         recipe_name                          ingredients  calories  protein  \\\n",
            "0       Caesar Salad  Romaine Lettuce, Croutons, Parmesan       180        7   \n",
            "1    Margarita Pizza      Dough, Tomato Sauce, Mozzarella       300       15   \n",
            "2  Vegetable Lasagna      Zucchini, Tomato Sauce, Ricotta       350       20   \n",
            "\n",
            "   carbs  fat  price($)  \n",
            "0      8   12       4.5  \n",
            "1     40   10       8.0  \n",
            "2     45   15       6.5  \n",
            "\n",
            "\n",
            "Index(['recipe_name', 'ingredients', 'calories', 'protein', 'carbs', 'fat',\n",
            "       'price($)'],\n",
            "      dtype='object')\n",
            "\n",
            "\n",
            "<class 'pandas.core.frame.DataFrame'>\n",
            "RangeIndex: 100 entries, 0 to 99\n",
            "Data columns (total 7 columns):\n",
            " #   Column       Non-Null Count  Dtype  \n",
            "---  ------       --------------  -----  \n",
            " 0   recipe_name  100 non-null    object \n",
            " 1   ingredients  100 non-null    object \n",
            " 2   calories     100 non-null    int64  \n",
            " 3   protein      100 non-null    int64  \n",
            " 4   carbs        100 non-null    int64  \n",
            " 5   fat          100 non-null    int64  \n",
            " 6   price($)     100 non-null    float64\n",
            "dtypes: float64(1), int64(4), object(2)\n",
            "memory usage: 5.6+ KB\n",
            "None\n",
            "\n",
            "\n",
            "         calories     protein       carbs         fat   price($)\n",
            "count  100.000000  100.000000  100.000000  100.000000  100.00000\n",
            "mean   272.200000   13.790000   27.320000   12.190000    5.28500\n",
            "std     94.874505    9.185292   14.792764    6.314478    2.59741\n",
            "min     80.000000    1.000000    0.000000    0.000000    1.00000\n",
            "25%    200.000000    5.000000   18.750000   10.000000    3.37500\n",
            "50%    300.000000   10.000000   27.500000   10.000000    4.75000\n",
            "75%    350.000000   20.000000   40.000000   15.000000    7.00000\n",
            "max    500.000000   35.000000   60.000000   35.000000   15.00000\n",
            "Missing values:\n",
            "recipe_name    0\n",
            "ingredients    0\n",
            "calories       0\n",
            "protein        0\n",
            "carbs          0\n",
            "fat            0\n",
            "price($)       0\n",
            "dtype: int64\n",
            "Duplicated rows: 0\n",
            "(100, 106)\n",
            "(100, 2)\n",
            "SVM Classification Accuracy: 0.9\n"
          ]
        },
        {
          "output_type": "stream",
          "name": "stderr",
          "text": [
            "/usr/local/lib/python3.10/dist-packages/sklearn/cluster/_kmeans.py:1416: FutureWarning: The default value of `n_init` will change from 10 to 'auto' in 1.4. Set the value of `n_init` explicitly to suppress the warning\n",
            "  super()._check_params_vs_input(X, default_n_init=10)\n"
          ]
        },
        {
          "output_type": "display_data",
          "data": {
            "text/plain": [
              "<Figure size 1000x600 with 1 Axes>"
            ],
            "image/png": "[encoded data removed]"
          },
          "metadata": {}
        },
        {
          "output_type": "stream",
          "name": "stdout",
          "text": [
            "Classification Report (SVM):\n",
            "              precision    recall  f1-score   support\n",
            "\n",
            "           0       1.00      0.62      0.77         8\n",
            "           1       0.87      1.00      0.93        20\n",
            "           2       1.00      1.00      1.00         2\n",
            "\n",
            "    accuracy                           0.90        30\n",
            "   macro avg       0.96      0.88      0.90        30\n",
            "weighted avg       0.91      0.90      0.89        30\n",
            "\n"
          ]
        }
      ]
    },
    {
      "cell_type": "code",
      "source": [
        "df.columns"
      ],
      "metadata": {
        "colab": {
          "base_uri": "https://localhost:8080/"
        },
        "id": "bhDH09raKqu8",
        "outputId": "dc16011b-0fb4-477d-ea25-fc5867ade4ce"
      },
      "execution_count": null,
      "outputs": [
        {
          "output_type": "execute_result",
          "data": {
            "text/plain": [
              "Index(['recipe_name', 'ingredients', 'calories', 'protein', 'carbs', 'fat',\n",
              "       'price($)', 'cleaned_ingredients', 'PCA1', 'PCA2', 'KMeans_Cluster',\n",
              "       'Agglomerative_Cluster', 'Cluster_Label'],\n",
              "      dtype='object')"
            ]
          },
          "metadata": {},
          "execution_count": 6
        }
      ]
    },
    {
      "cell_type": "code",
      "source": [
        "df.protein.unique()"
      ],
      "metadata": {
        "colab": {
          "base_uri": "https://localhost:8080/"
        },
        "id": "bMYMrW9yJZjA",
        "outputId": "29578244-7a3b-4826-c0a8-c5e31dccecff"
      },
      "execution_count": null,
      "outputs": [
        {
          "output_type": "execute_result",
          "data": {
            "text/plain": [
              "array([ 7, 15, 20, 25,  4,  5, 30, 10,  3,  6, 12,  8,  2, 35,  1])"
            ]
          },
          "metadata": {},
          "execution_count": 28
        }
      ]
    },
    {
      "cell_type": "code",
      "source": [
        "import pickle\n",
        "# Save the model and scaler to .sav files\n",
        "with open('svm_model.sav', 'wb') as model_file:\n",
        "    pickle.dump(svm_model, model_file)\n",
        "with open('scaler_model11.sav', 'wb') as scaler_file:\n",
        "    pickle.dump(scaler, scaler_file)\n",
        "\n",
        "print(\"Model and scaler saved successfully.\")"
      ],
      "metadata": {
        "colab": {
          "base_uri": "https://localhost:8080/"
        },
        "id": "bMq2HiYspdjb",
        "outputId": "3743353a-17e9-4872-f796-e42d7241a299"
      },
      "execution_count": null,
      "outputs": [
        {
          "output_type": "stream",
          "name": "stdout",
          "text": [
            "Model and scaler saved successfully.\n"
          ]
        }
      ]
    }
  ],
  "metadata": {
    "colab": {
      "provenance": [],
      "authorship_tag": "ABX9TyOScy5UKn24Xf4Q9GlzZRYv",
      "include_colab_link": true
    },
    "kernelspec": {
      "display_name": "Python 3",
      "name": "python3"
    },
    "language_info": {
      "name": "python"
    }
  },
  "nbformat": 4,
  "nbformat_minor": 0
}